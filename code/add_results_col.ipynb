{
 "cells": [
  {
   "cell_type": "code",
   "execution_count": 1,
   "metadata": {},
   "outputs": [],
   "source": [
    "import pandas as pd"
   ]
  },
  {
   "cell_type": "code",
   "execution_count": 4,
   "metadata": {},
   "outputs": [],
   "source": [
    "titles = ['ad', 'volkskrant', 'nrc', 'fd', 'groene']\n",
    "model_sizes = ['small', 'base', 'large', 'xl']\n",
    "\n",
    "for title in titles:\n",
    "    for model_size in model_sizes:\n",
    "        try:\n",
    "            RESULT_PATH = f\"..\\\\results\\\\working_results\\\\mT5\\\\results_15\\\\{title}\\\\results_{title}_{model_size}.csv\"\n",
    "            df = pd.read_csv(RESULT_PATH)\n",
    "\n",
    "            df['Masking percentage'] = 15\n",
    "            df = df[['Sequence id', 'Model size', 'Input sequence (ground truth)', 'Input sequence (masked)', 'Model output sequence', 'Masked tokens', 'Filled tokens', 'Number of masked tokens', 'Masking percentage', 'Duplicate count', 'Levenshtein distances', 'Levenshtein distance (avg)']]\n",
    "\n",
    "            results_path_new = f\"..\\\\results\\\\working_results\\\\mT5\\\\results_15_2\\\\{title}\\\\results_{title}_{model_size}.csv\"\n",
    "            df.to_csv(results_path_new, index=False)\n",
    "        except:\n",
    "            continue\n",
    "\n"
   ]
  }
 ],
 "metadata": {
  "kernelspec": {
   "display_name": "env_thesis",
   "language": "python",
   "name": "python3"
  },
  "language_info": {
   "codemirror_mode": {
    "name": "ipython",
    "version": 3
   },
   "file_extension": ".py",
   "mimetype": "text/x-python",
   "name": "python",
   "nbconvert_exporter": "python",
   "pygments_lexer": "ipython3",
   "version": "3.9.19"
  }
 },
 "nbformat": 4,
 "nbformat_minor": 2
}
